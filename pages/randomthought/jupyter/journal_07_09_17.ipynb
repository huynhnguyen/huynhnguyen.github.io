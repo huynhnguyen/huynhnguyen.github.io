{
 "cells": [
  {
   "cell_type": "code",
   "execution_count": 44,
   "metadata": {},
   "outputs": [
    {
     "data": {
      "application/javascript": [
       "require.config({\n",
       "  paths: {\n",
       "    d3: \"http://d3js.org/d3.v4.min\"\n",
       "  }\n",
       "});\n",
       "require([\"d3\"], function(d3) {\n",
       "  element.append(\"h1\").text(\"Successfully loaded D3 version \" + d3.version);\n",
       "});"
      ],
      "text/plain": [
       "<IPython.core.display.Javascript object>"
      ]
     },
     "metadata": {},
     "output_type": "display_data"
    }
   ],
   "source": [
    "%%js\n",
    "require.config({\n",
    "  paths: {\n",
    "    d3: \"http://d3js.org/d3.v4.min\"\n",
    "  }\n",
    "});\n",
    "require([\"d3\"], function(d3) {\n",
    "  element.append(\"h1\").text(\"Successfully loaded D3 version \" + d3.version);\n",
    "});"
   ]
  },
  {
   "cell_type": "code",
   "execution_count": 35,
   "metadata": {},
   "outputs": [
    {
     "data": {
      "application/javascript": [
       "element.append(Date());\n",
       "define('e2',(t1)=>{\n",
       "    const t1_f = (el)=>{el.append('t1234')}\n",
       "    return {t1:t1_f}  \n",
       "})\n",
       "require(['e2'],(t1)=>{\n",
       "    console.log(t1.t1);\n",
       "    t1.t1(element);\n",
       "})"
      ],
      "text/plain": [
       "<IPython.core.display.Javascript object>"
      ]
     },
     "metadata": {},
     "output_type": "display_data"
    }
   ],
   "source": [
    "%%js\n",
    "element.append(Date());\n",
    "define('e2',(t1)=>{\n",
    "    const t1_f = (el)=>{el.append('t1234')}\n",
    "    return {t1:t1_f}  \n",
    "})\n",
    "require(['e2'],(t1)=>{\n",
    "    console.log(t1.t1);\n",
    "    t1.t1(element);\n",
    "})"
   ]
  },
  {
   "cell_type": "code",
   "execution_count": null,
   "metadata": {
    "collapsed": true
   },
   "outputs": [],
   "source": [
    "## Metropolish"
   ]
  },
  {
   "cell_type": "code",
   "execution_count": 1,
   "metadata": {},
   "outputs": [
    {
     "data": {
      "application/javascript": [
       "console.log(require.s.contexts._.defined)"
      ],
      "text/plain": [
       "<IPython.core.display.Javascript object>"
      ]
     },
     "metadata": {},
     "output_type": "display_data"
    }
   ],
   "source": [
    "%%js\n",
    "console.log(require.s.contexts._.defined)"
   ]
  },
  {
   "cell_type": "code",
   "execution_count": 93,
   "metadata": {},
   "outputs": [
    {
     "name": "stderr",
     "output_type": "stream",
     "text": [
      "UsageError: %%js is a cell magic, but the cell body is empty.\n"
     ]
    }
   ],
   "source": [
    "%%js\n"
   ]
  },
  {
   "cell_type": "markdown",
   "metadata": {},
   "source": [
    "## Metropolis–Hastings sampling\n",
    "1. Init $x^{(0)} \\leftarrow q(x)$ \n",
    "2. __For__ $i = 1$ to $L$ __Do__   \n",
    "2.1. __Propose__ $x^{candidate} \\leftarrow q(x^{(i)}|x^{i-1})$  \n",
    "2.2. __Acceptance probability__:  $\\alpha(x^{candidate}|x^{(i-1)}) = min(1,\\frac{p(x^{(i-1)}|x^{candidate})\\pi(x^{candidate})}{q(x^{candidate}|x^{(i-1)})\\pi(x^{i-1})})$  \n",
    "2.3. $u = Uniform(0,1)$  \n",
    "2.4. __If__ $u \\le \\alpha$ __Then__  \n",
    "2.4.1 __Accept proposal__: $x^{(i)} \\leftarrow x^{candidate}$  \n",
    "2.5. __Else:__  \n",
    "2.5.1. __Reject proposal__: $x^{(i)} \\leftarrow x^{(i-1)}$"
   ]
  },
  {
   "cell_type": "code",
   "execution_count": 41,
   "metadata": {},
   "outputs": [
    {
     "data": {
      "application/javascript": [
       "const del_module = (modulename)=>{\n",
       "    var context = require.s.contexts['_'];\n",
       "    delete context.defined[moduleName];\n",
       "    delete context.specified[moduleName];\n",
       "    delete context.loaded[moduleName];    \n",
       "}\n",
       "define('f1',()=>{\n",
       "    return {'f1':()=>{return 'sdfdf2'}}\n",
       "})\n",
       "define('f2',()=>{\n",
       "    return {'f2':()=>{return 'sdfdf2'}}\n",
       "})\n",
       "require(['f1','f2'],(f1,f2)=>{\n",
       "    element.append(f1.f1());\n",
       "    element.append(`<br>`);\n",
       "    element.append(f2.f1());\n",
       "})"
      ],
      "text/plain": [
       "<IPython.core.display.Javascript object>"
      ]
     },
     "metadata": {},
     "output_type": "display_data"
    }
   ],
   "source": [
    "%%js\n",
    "const del_module = (modulename)=>{\n",
    "    var context = require.s.contexts['_'];\n",
    "    delete context.defined[moduleName];\n",
    "    delete context.specified[moduleName];\n",
    "    delete context.loaded[moduleName];    \n",
    "}\n",
    "define('f1',()=>{\n",
    "    return {'f1':()=>{return 'sdfdf2'}}\n",
    "})\n",
    "define('f2',()=>{\n",
    "    return {'f2':()=>{return 'sdfdf2'}}\n",
    "})\n",
    "require(['f1','f2'],(f1,f2)=>{\n",
    "    element.append(f1.f1());\n",
    "    element.append(`<br>`);\n",
    "    element.append(f2.f1());\n",
    "})"
   ]
  },
  {
   "cell_type": "code",
   "execution_count": 8,
   "metadata": {},
   "outputs": [
    {
     "data": {
      "text/html": [
       "<svg id=\"distribution\"></svg>\n",
       "<script>\n",
       "require(['d3','jquery'],function(d3,$){\n",
       "    const svg = d3.select(\"svg\"),\n",
       "        margin = {top: 20, right: 80, bottom: 30, left: 50},\n",
       "        width = svg.attr(\"width\") - margin.left - margin.right,\n",
       "        height = svg.attr(\"height\") - margin.top - margin.bottom,\n",
       "        g = svg.append(\"g\").attr(\"transform\", \"translate(\" + margin.left + \",\" + margin.top + \")\");\n",
       "})\n",
       "</script>"
      ],
      "text/plain": [
       "<IPython.core.display.HTML object>"
      ]
     },
     "metadata": {},
     "output_type": "display_data"
    }
   ],
   "source": [
    "%%html\n",
    "<svg id=\"distribution\" width></svg>\n",
    "<script>\n",
    "require(['d3','jquery'],function(d3,$){\n",
    "    const svg = d3.select(\"svg\"),\n",
    "        margin = {top: 20, right: 80, bottom: 30, left: 50},\n",
    "        width = svg.attr(\"width\") - margin.left - margin.right,\n",
    "        height = svg.attr(\"height\") - margin.top - margin.bottom,\n",
    "        g = svg.append(\"g\").attr(\"transform\", \"translate(\" + margin.left + \",\" + margin.top + \")\");\n",
    "})\n",
    "</script>"
   ]
  },
  {
   "cell_type": "markdown",
   "metadata": {},
   "source": [
    "## HMC algorithm\n",
    "\n",
    "__Function__ $leapfrog(\\theta,r,\\epsilon)$   \n",
    "  - Set $\\hat{\\theta} \\leftarrow + (\\epsilon/2)\\nabla(\\cal L)$   \n",
    "  - Set $\\hat{}$  \n",
    "  - Set $\\hat{}$   \n",
    "  \n",
    "__EndFunction__\n",
    "\n",
    "1. given $\\theta^0$, $\\epsilon$, $\\cal L$, $\\mathbb{L}$, M  \n",
    "2. __for__ m = 1 to M __do__  \n",
    "   2.1. sample $r^0$ ~ $\\mathbb{N}(0,1)$   \n",
    "   2.2. Set $\\theta^{m} \\leftarrow \\theta^{m - 1},\\hat{\\theta} \\leftarrow \\theta^{m-1}$   \n",
    "   2.3. __for__ i = 1 to L __do__   \n",
    "   2.4. $\\hat{\\theta},\\hat{r} \\leftarrow Lea[Frog(\\hat{\\theta},\\hat{r},\\hat{\\epsilon})$  \n",
    "   2.5. With probability $\\alpha = min({1,\\frac{exp{L(\\hat\\theta)} - 1/2\\hat{r}\\hat{r}}{a}})$\n",
    "      set $\\theta^{m} \\leftarrow \\hat{\\theta}, r^{m} \\leftarrow \\hat{r}$\n",
    "\n",
    "\n",
    "\n"
   ]
  },
  {
   "cell_type": "markdown",
   "metadata": {},
   "source": [
    "## No U turn sampling\n",
    "\n"
   ]
  },
  {
   "cell_type": "code",
   "execution_count": 1,
   "metadata": {
    "collapsed": true
   },
   "outputs": [],
   "source": [
    "import sys\n",
    "sys.path.insert(0,'/Users/huynh/github/edward/')\n",
    "import edward as ed\n",
    "from edward.models import Normal, Empirical\n",
    "import tensorflow as tf\n",
    "import numpy as np\n",
    "mu = Normal(loc=0.0, scale=1.0)\n",
    "x = Normal(loc=mu, scale=1.0, sample_shape=10)\n",
    "\n",
    "qmu = Empirical(tf.Variable(tf.zeros(500)))\n",
    "inference = ed.HMC({mu: qmu}, {x: np.zeros(10, dtype=np.float32)})\n",
    "from edward.inferences.nuts import NUTS\n",
    "inference_nuts = NUTS({mu: qmu}, {x: np.zeros(10, dtype=np.float32)})\n",
    "inference_nuts.run()"
   ]
  },
  {
   "cell_type": "code",
   "execution_count": 11,
   "metadata": {
    "collapsed": true
   },
   "outputs": [],
   "source": [
    "x = tf.Variable(np.zeros(10))\n"
   ]
  },
  {
   "cell_type": "code",
   "execution_count": 14,
   "metadata": {
    "collapsed": true
   },
   "outputs": [],
   "source": [
    "sess = tf.Session()"
   ]
  },
  {
   "cell_type": "code",
   "execution_count": 19,
   "metadata": {
    "collapsed": true
   },
   "outputs": [],
   "source": [
    "with sess.as_default():\n",
    "    tf.global_variables_initializer().run()\n",
    "    _x = x.eval()"
   ]
  },
  {
   "cell_type": "code",
   "execution_count": 53,
   "metadata": {},
   "outputs": [],
   "source": [
    "import numpy as np\n",
    "import math\n",
    "from numpy import linalg as la\n",
    "import matplotlib.pyplot as plt\n",
    "import matplotlib.mlab as mlab\n",
    "import time\n",
    "\n",
    "mu,sig,N = -1,1,1000000\n",
    "pts = []\n",
    "\n",
    "def q(x):\n",
    "    return (1/(math.sqrt(2*math.pi*sig**2)))*(math.e**(-((x-mu)**2)/(2*sig**2)))\n",
    "\n",
    "def metropolis(N):\n",
    "    r = np.zeros(1)\n",
    "    p = q(r[0])\n",
    "    pts = []\n",
    "    \n",
    "    for i in range(N):\n",
    "        rn = r + np.random.uniform(-1,1)\n",
    "        pn = q(rn[0])\n",
    "        if pn >= p:\n",
    "            p = pn\n",
    "            r = rn\n",
    "        else:\n",
    "            u = np.random.rand()\n",
    "            if u < pn/p:\n",
    "                p = pn\n",
    "                r = rn\n",
    "        pts.append(r)\n",
    "    \n",
    "    pts = np.array(pts)\n",
    "    return pts\n",
    "    \n",
    "def hist_plot(array):\n",
    "    fig = plt.figure()\n",
    "    ax = fig.add_subplot(1,1,1,)\n",
    "    ax.hist(array, bins=1000)    \n",
    "    plt.title('')\n",
    "    plt.xlabel('')\n",
    "    plt.ylabel('')\n",
    "arr = metropolis(1000)"
   ]
  },
  {
   "cell_type": "code",
   "execution_count": 54,
   "metadata": {},
   "outputs": [
    {
     "data": {
      "text/plain": [
       "1000"
      ]
     },
     "execution_count": 54,
     "metadata": {},
     "output_type": "execute_result"
    }
   ],
   "source": [
    "len(arr)"
   ]
  },
  {
   "cell_type": "code",
   "execution_count": 55,
   "metadata": {
    "collapsed": true
   },
   "outputs": [],
   "source": [
    "from matplotlib import pyplot as plt"
   ]
  },
  {
   "cell_type": "code",
   "execution_count": 56,
   "metadata": {},
   "outputs": [
    {
     "data": {
      "text/plain": [
       "(array([  13.,   51.,  101.,  149.,  234.,  177.,  144.,   91.,   26.,   14.]),\n",
       " array([ -3.56604789e+00,  -3.05684414e+00,  -2.54764038e+00,\n",
       "         -2.03843663e+00,  -1.52923288e+00,  -1.02002912e+00,\n",
       "         -5.10825367e-01,  -1.62161229e-03,   5.07582142e-01,\n",
       "          1.01678590e+00,   1.52598965e+00]),\n",
       " <a list of 10 Patch objects>)"
      ]
     },
     "execution_count": 56,
     "metadata": {},
     "output_type": "execute_result"
    }
   ],
   "source": [
    "plt.hist(arr)"
   ]
  },
  {
   "cell_type": "code",
   "execution_count": 57,
   "metadata": {},
   "outputs": [
    {
     "data": {
      "image/png": "[encoded data removed]",
      "text/plain": [
       "<matplotlib.figure.Figure at 0x108460110>"
      ]
     },
     "metadata": {},
     "output_type": "display_data"
    }
   ],
   "source": [
    "plt.show()"
   ]
  },
  {
   "cell_type": "code",
   "execution_count": 58,
   "metadata": {
    "collapsed": true
   },
   "outputs": [],
   "source": [
    "import tensorflow as tf"
   ]
  },
  {
   "cell_type": "code",
   "execution_count": 59,
   "metadata": {
    "collapsed": true
   },
   "outputs": [],
   "source": [
    "from tensorflow.contrib.distributions import Normal "
   ]
  },
  {
   "cell_type": "code",
   "execution_count": 61,
   "metadata": {},
   "outputs": [],
   "source": [
    "norm = Normal(0.,1.)"
   ]
  },
  {
   "cell_type": "code",
   "execution_count": 68,
   "metadata": {},
   "outputs": [
    {
     "name": "stdout",
     "output_type": "stream",
     "text": [
      "-1.86288\n"
     ]
    }
   ],
   "source": [
    "with tf.Session() as sess:\n",
    "    print sess.run(tf.reduce_sum(norm.log_prob([0.2,0.1])))"
   ]
  },
  {
   "cell_type": "code",
   "execution_count": 1,
   "metadata": {},
   "outputs": [],
   "source": [
    "import numpy as np"
   ]
  },
  {
   "cell_type": "code",
   "execution_count": 2,
   "metadata": {},
   "outputs": [],
   "source": [
    "a = np.array([[1,2,3],[1,2,3],[1,2,3]])"
   ]
  },
  {
   "cell_type": "code",
   "execution_count": 3,
   "metadata": {},
   "outputs": [],
   "source": [
    "b = np.array([[2,3,4],[2,4,5]])"
   ]
  },
  {
   "cell_type": "code",
   "execution_count": 5,
   "metadata": {},
   "outputs": [
    {
     "data": {
      "text/plain": [
       "array([[20, 25],\n",
       "       [20, 25],\n",
       "       [20, 25]])"
      ]
     },
     "execution_count": 5,
     "metadata": {},
     "output_type": "execute_result"
    }
   ],
   "source": [
    "np.dot(a,b.T)"
   ]
  },
  {
   "cell_type": "code",
   "execution_count": null,
   "metadata": {},
   "outputs": [],
   "source": []
  }
 ],
 "metadata": {
  "kernelspec": {
   "display_name": "Python 2",
   "language": "python",
   "name": "python2"
  },
  "language_info": {
   "codemirror_mode": {
    "name": "ipython",
    "version": 2
   },
   "file_extension": ".py",
   "mimetype": "text/x-python",
   "name": "python",
   "nbconvert_exporter": "python",
   "pygments_lexer": "ipython2",
   "version": "2.7.10"
  }
 },
 "nbformat": 4,
 "nbformat_minor": 2
}
