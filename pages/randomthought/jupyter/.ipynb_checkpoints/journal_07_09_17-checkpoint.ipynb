{
 "cells": [
  {
   "cell_type": "code",
   "execution_count": 1,
   "metadata": {
    "collapsed": true
   },
   "outputs": [],
   "source": [
    "import sys\n",
    "sys.path.insert(0,'/Users/huynh/github/edward/')\n",
    "import edward as ed\n",
    "from edward.models import Normal, Empirical\n",
    "import tensorflow as tf\n",
    "import numpy as np\n",
    "mu = Normal(loc=0.0, scale=1.0)\n",
    "x = Normal(loc=mu, scale=1.0, sample_shape=10)\n",
    "\n",
    "qmu = Empirical(tf.Variable(tf.zeros(500)))\n",
    "inference = ed.HMC({mu: qmu}, {x: np.zeros(10, dtype=np.float32)})\n",
    "from edward.inferences.nuts import NUTS\n",
    "inference_nuts = NUTS({mu: qmu}, {x: np.zeros(10, dtype=np.float32)})\n",
    "inference_nuts.run()"
   ]
  },
  {
   "cell_type": "code",
   "execution_count": 43,
   "metadata": {},
   "outputs": [
    {
     "data": {
      "application/javascript": [
       "require.config({\n",
       "  paths: {\n",
       "    d3: \"http://d3js.org/d3.v4.min\"\n",
       "  }\n",
       "});\n",
       "require([\"d3\"], function(d3) {\n",
       "  element.append(\"h1\").text(\"Successfully loaded D3 version \" + d3.version);\n",
       "});"
      ],
      "text/plain": [
       "<IPython.core.display.Javascript object>"
      ]
     },
     "metadata": {},
     "output_type": "display_data"
    }
   ],
   "source": [
    "%%js\n",
    "require.config({\n",
    "  paths: {\n",
    "    d3: \"http://d3js.org/d3.v4.min\"\n",
    "  }\n",
    "});\n",
    "require([\"d3\"], function(d3) {\n",
    "  element.append(\"h1\").text(\"Successfully loaded D3 version \" + d3.version);\n",
    "});"
   ]
  },
  {
   "cell_type": "code",
   "execution_count": 35,
   "metadata": {},
   "outputs": [
    {
     "data": {
      "application/javascript": [
       "element.append(Date());\n",
       "define('e2',(t1)=>{\n",
       "    const t1_f = (el)=>{el.append('t1234')}\n",
       "    return {t1:t1_f}  \n",
       "})\n",
       "require(['e2'],(t1)=>{\n",
       "    console.log(t1.t1);\n",
       "    t1.t1(element);\n",
       "})"
      ],
      "text/plain": [
       "<IPython.core.display.Javascript object>"
      ]
     },
     "metadata": {},
     "output_type": "display_data"
    }
   ],
   "source": [
    "%%js\n",
    "element.append(Date());\n",
    "define('e2',(t1)=>{\n",
    "    const t1_f = (el)=>{el.append('t1234')}\n",
    "    return {t1:t1_f}  \n",
    "})\n",
    "require(['e2'],(t1)=>{\n",
    "    console.log(t1.t1);\n",
    "    t1.t1(element);\n",
    "})"
   ]
  },
  {
   "cell_type": "code",
   "execution_count": null,
   "metadata": {
    "collapsed": true
   },
   "outputs": [],
   "source": [
    "## Metropolish"
   ]
  },
  {
   "cell_type": "code",
   "execution_count": 1,
   "metadata": {},
   "outputs": [
    {
     "data": {
      "application/javascript": [
       "console.log(require.s.contexts._.defined)"
      ],
      "text/plain": [
       "<IPython.core.display.Javascript object>"
      ]
     },
     "metadata": {},
     "output_type": "display_data"
    }
   ],
   "source": [
    "%%js\n",
    "console.log(require.s.contexts._.defined)"
   ]
  },
  {
   "cell_type": "code",
   "execution_count": 93,
   "metadata": {},
   "outputs": [
    {
     "name": "stderr",
     "output_type": "stream",
     "text": [
      "UsageError: %%js is a cell magic, but the cell body is empty.\n"
     ]
    }
   ],
   "source": [
    "%%js\n"
   ]
  },
  {
   "cell_type": "markdown",
   "metadata": {},
   "source": [
    "## Metropolis–Hastings sampling\n",
    "1. Init $x^{(0)} \\leftarrow q(x)$ \n",
    "2. __For__ $i = 1$ to $L$ __Do__   \n",
    "2.1. __Propose__ $x^{candidate} \\leftarrow q(x^{(i)}|x^{i-1})$  \n",
    "2.2. __Acceptance probability__:  $\\alpha(x^{candidate}|x^{(i-1)}) = min(1,\\frac{p(x^{(i-1)}|x^{candidate})\\pi(x^{candidate})}{q(x^{candidate}|x^{(i-1)})\\pi(x^{i-1})})$  \n",
    "2.3. $u = Uniform(0,1)$  \n",
    "2.4. __If__ $u \\le \\alpha$ __Then__  \n",
    "2.4.1 __Accept proposal__: $x^{(i)} \\leftarrow x^{candidate}$  \n",
    "2.5. __Else:__  \n",
    "2.5.1. __Reject proposal__: $x^{(i)} \\leftarrow x^{(i-1)}$"
   ]
  },
  {
   "cell_type": "code",
   "execution_count": 41,
   "metadata": {},
   "outputs": [
    {
     "data": {
      "application/javascript": [
       "const del_module = (modulename)=>{\n",
       "    var context = require.s.contexts['_'];\n",
       "    delete context.defined[moduleName];\n",
       "    delete context.specified[moduleName];\n",
       "    delete context.loaded[moduleName];    \n",
       "}\n",
       "define('f1',()=>{\n",
       "    return {'f1':()=>{return 'sdfdf2'}}\n",
       "})\n",
       "define('f2',()=>{\n",
       "    return {'f2':()=>{return 'sdfdf2'}}\n",
       "})\n",
       "require(['f1','f2'],(f1,f2)=>{\n",
       "    element.append(f1.f1());\n",
       "    element.append(`<br>`);\n",
       "    element.append(f2.f1());\n",
       "})"
      ],
      "text/plain": [
       "<IPython.core.display.Javascript object>"
      ]
     },
     "metadata": {},
     "output_type": "display_data"
    }
   ],
   "source": [
    "%%js\n",
    "const del_module = (modulename)=>{\n",
    "    var context = require.s.contexts['_'];\n",
    "    delete context.defined[moduleName];\n",
    "    delete context.specified[moduleName];\n",
    "    delete context.loaded[moduleName];    \n",
    "}\n",
    "define('f1',()=>{\n",
    "    return {'f1':()=>{return 'sdfdf2'}}\n",
    "})\n",
    "define('f2',()=>{\n",
    "    return {'f2':()=>{return 'sdfdf2'}}\n",
    "})\n",
    "require(['f1','f2'],(f1,f2)=>{\n",
    "    element.append(f1.f1());\n",
    "    element.append(`<br>`);\n",
    "    element.append(f2.f1());\n",
    "})"
   ]
  },
  {
   "cell_type": "code",
   "execution_count": 8,
   "metadata": {},
   "outputs": [
    {
     "data": {
      "text/html": [
       "<svg id=\"distribution\"></svg>\n",
       "<script>\n",
       "require(['d3','jquery'],function(d3,$){\n",
       "    const svg = d3.select(\"svg\"),\n",
       "        margin = {top: 20, right: 80, bottom: 30, left: 50},\n",
       "        width = svg.attr(\"width\") - margin.left - margin.right,\n",
       "        height = svg.attr(\"height\") - margin.top - margin.bottom,\n",
       "        g = svg.append(\"g\").attr(\"transform\", \"translate(\" + margin.left + \",\" + margin.top + \")\");\n",
       "})\n",
       "</script>"
      ],
      "text/plain": [
       "<IPython.core.display.HTML object>"
      ]
     },
     "metadata": {},
     "output_type": "display_data"
    }
   ],
   "source": [
    "%%html\n",
    "<svg id=\"distribution\" width></svg>\n",
    "<script>\n",
    "require(['d3','jquery'],function(d3,$){\n",
    "    const svg = d3.select(\"svg\"),\n",
    "        margin = {top: 20, right: 80, bottom: 30, left: 50},\n",
    "        width = svg.attr(\"width\") - margin.left - margin.right,\n",
    "        height = svg.attr(\"height\") - margin.top - margin.bottom,\n",
    "        g = svg.append(\"g\").attr(\"transform\", \"translate(\" + margin.left + \",\" + margin.top + \")\");\n",
    "})\n",
    "</script>"
   ]
  },
  {
   "cell_type": "markdown",
   "metadata": {},
   "source": [
    "## HMC algorithm\n",
    "\n",
    "__Function__ $leapfrog(\\theta,r,\\epsilon)$   \n",
    "  - Set $\\hat{\\theta} \\leftarrow + (\\epsilon/2)\\nabla(L)$   \n",
    "  - Set $\\hat{}$  \n",
    "  - Set $\\hat{}$   \n",
    "  \n",
    "__EndFunction__\n",
    "\n",
    "1. given $\\theta^0$, $\\epsilon$, $\\log$, $\\mathbb{L}$, M  \n",
    "2. __for__ m = 1 to M __do__  \n",
    "   2.1. sample $r^0$ ~ $\\mathbb{N}(0,1)$   \n",
    "   2.2. Set $\\theta^{m} \\leftarrow \\theta^{m - 1},\\hat{\\theta} \\leftarrow \\theta^{m-1}$   \n",
    "   2.3. __for__ i = 1 to L __do__   \n",
    "   2.4. $\\hat{\\theta},\\hat{r} \\leftarrow Lea[Frog(\\hat{\\theta},\\hat{r},\\hat{\\epsilon})$  \n",
    "   2.5. With probability $\\alpha = min({1,\\frac{exp{L(\\hat\\theta)} - 1/2\\hat{r}\\hat{r}}{a}})$\n",
    "      set $\\theta^{m} \\leftarrow \\hat{\\theta}, r^{m} \\leftarrow \\hat{r}$\n",
    "\n",
    "\n",
    "\n"
   ]
  },
  {
   "cell_type": "markdown",
   "metadata": {},
   "source": [
    "## No U turn sampling\n",
    "\n"
   ]
  },
  {
   "cell_type": "code",
   "execution_count": 11,
   "metadata": {
    "collapsed": true
   },
   "outputs": [],
   "source": [
    "x = tf.Variable(np.zeros(10))\n"
   ]
  },
  {
   "cell_type": "code",
   "execution_count": 14,
   "metadata": {
    "collapsed": true
   },
   "outputs": [],
   "source": [
    "sess = tf.Session()"
   ]
  },
  {
   "cell_type": "code",
   "execution_count": 19,
   "metadata": {
    "collapsed": true
   },
   "outputs": [],
   "source": [
    "with sess.as_default():\n",
    "    tf.global_variables_initializer().run()\n",
    "    _x = x.eval()"
   ]
  },
  {
   "cell_type": "code",
   "execution_count": 20,
   "metadata": {},
   "outputs": [
    {
     "data": {
      "text/plain": [
       "array([ 0.,  0.,  0.,  0.,  0.,  0.,  0.,  0.,  0.,  0.])"
      ]
     },
     "execution_count": 20,
     "metadata": {},
     "output_type": "execute_result"
    }
   ],
   "source": [
    "_x"
   ]
  },
  {
   "cell_type": "code",
   "execution_count": null,
   "metadata": {
    "collapsed": true
   },
   "outputs": [],
   "source": []
  }
 ],
 "metadata": {
  "kernelspec": {
   "display_name": "Python 2",
   "language": "python",
   "name": "python2"
  },
  "language_info": {
   "codemirror_mode": {
    "name": "ipython",
    "version": 2
   },
   "file_extension": ".py",
   "mimetype": "text/x-python",
   "name": "python",
   "nbconvert_exporter": "python",
   "pygments_lexer": "ipython2",
   "version": "2.7.10"
  }
 },
 "nbformat": 4,
 "nbformat_minor": 2
}
