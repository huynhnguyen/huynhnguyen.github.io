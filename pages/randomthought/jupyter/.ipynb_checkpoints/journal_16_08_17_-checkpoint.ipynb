{
 "cells": [
  {
   "cell_type": "markdown",
   "metadata": {},
   "source": [
    "# parallel coordinator"
   ]
  },
  {
   "cell_type": "code",
   "execution_count": 1,
   "metadata": {},
   "outputs": [
    {
     "data": {
      "application/javascript": [
       "$(\"div.input\").hide();\n",
       "element.append(`<button type=\"button\" \n",
       "                   onclick='$(\"div.input\").toggle(1000)'\n",
       "                   class=\"btn btn-primary active\">toggle code</button>`)"
      ],
      "text/plain": [
       "<IPython.core.display.Javascript object>"
      ]
     },
     "metadata": {},
     "output_type": "display_data"
    }
   ],
   "source": [
    "%%js\n",
    "$(\"div.input\").hide();\n",
    "element.append(`<button type=\"button\" \n",
    "                   onclick='$(\"div.input\").toggle(1000)'\n",
    "                   class=\"btn btn-primary active\">toggle code</button>`)\n"
   ]
  },
  {
   "cell_type": "code",
   "execution_count": 192,
   "metadata": {
    "collapsed": true
   },
   "outputs": [],
   "source": [
    "import numpy as np\n",
    "import struct\n",
    "import pandas as pd\n",
    "def extract_labels(mnist_label_file_path):\n",
    "    with open(mnist_label_file_path, \"rb\") as f:\n",
    "        magic_number = struct.unpack('i',f.read(4))\n",
    "        num_items = struct.unpack('i',f.read(4))\n",
    "        labels = reduce(lambda a,b:a+[ord(b)],f.read(),[])\n",
    "    return labels\n",
    "def extract_images(images_file_path):\n",
    "    with open(images_file_path, \"rb\") as f:\n",
    "        magic_number = f.read(4)\n",
    "        num_images = f.read(4)\n",
    "        num_rows = f.read(4)\n",
    "        num_cols = f.read(4)\n",
    "        rimg = f.read(784)\n",
    "        rimgs = []\n",
    "        while rimg:\n",
    "            rimgs = rimgs + [rimg]\n",
    "            rimg = f.read(784)\n",
    "        imgs = reduce(lambda imgs,rimg:imgs+[struct.unpack('=784B',rimg)],rimgs,[])\n",
    "    return imgs\n",
    "imgs = extract_images('/Users/huynh/github/uci_dataset/mnist/train-images-idx3-ubyte')\n",
    "labels = extract_labels('/Users/huynh/github/uci_dataset/mnist/train-labels-idx1-ubyte')\n",
    "data = [[l] + list(imgs[i]) for i,l in enumerate(labels)]\n",
    "data_df = pd.DataFrame(data,columns=['label']+['p'+str(i) for i in range(784)])\n",
    "#try to avoid trouble with github\n",
    "data_df[:30000].to_csv('/Users/huynh/github/uci_dataset/mnist/train_1.csv',index=None)\n",
    "data_df[30000:].to_csv('/Users/huynh/github/uci_dataset/mnist/train_2.csv',index=None)"
   ]
  },
  {
   "cell_type": "code",
   "execution_count": 191,
   "metadata": {
    "collapsed": true
   },
   "outputs": [],
   "source": [
    "test_imgs = extract_images('/Users/huynh/github/uci_dataset/mnist/t10k-images-idx3-ubyte')\n",
    "test_labels = extract_labels('/Users/huynh/github/uci_dataset/mnist/t10k-labels-idx1-ubyte')\n",
    "test_data = [[l] + list(test_imgs[i]) for i,l in enumerate(test_labels)]\n",
    "test_data_df = pd.DataFrame(test_data,columns=['label']+['p'+str(i) for i in range(784)])"
   ]
  },
  {
   "cell_type": "code",
   "execution_count": null,
   "metadata": {
    "collapsed": true
   },
   "outputs": [],
   "source": [
    "print(test_data_df.shape, data_df.shape)"
   ]
  },
  {
   "cell_type": "code",
   "execution_count": 7,
   "metadata": {},
   "outputs": [
    {
     "data": {
      "application/javascript": [
       "require.config({\n",
       "  paths: {\n",
       "    d3: \"http://d3js.org/d3.v4.min\"\n",
       "  }\n",
       "});"
      ],
      "text/plain": [
       "<IPython.core.display.Javascript object>"
      ]
     },
     "metadata": {},
     "output_type": "display_data"
    }
   ],
   "source": [
    "%%js\n",
    "require.config({\n",
    "  paths: {\n",
    "    d3: \"http://d3js.org/d3.v4.min\"\n",
    "  }\n",
    "});"
   ]
  },
  {
   "cell_type": "code",
   "execution_count": 8,
   "metadata": {},
   "outputs": [
    {
     "data": {
      "application/javascript": [
       "require([\"d3\"], function(d3) {\n",
       "  element.append(\"h1\").text(\"Successfully loaded D3 version \" + d3.version);\n",
       "});"
      ],
      "text/plain": [
       "<IPython.core.display.Javascript object>"
      ]
     },
     "metadata": {},
     "output_type": "display_data"
    }
   ],
   "source": [
    "%%js\n",
    "require([\"d3\"], function(d3) {\n",
    "  element.append(\"h1\").text(\"Successfully loaded D3 version \" + d3.version);\n",
    "});"
   ]
  },
  {
   "cell_type": "code",
   "execution_count": null,
   "metadata": {
    "collapsed": true
   },
   "outputs": [],
   "source": [
    "%%html\n",
    "<iframe width=\"560\" height=\"315\" src=\"https://www.youtube.com/embed/BgjmhbkPVAI\" \n",
    "    frameborder=\"0\" allowfullscreen></iframe>"
   ]
  }
 ],
 "metadata": {
  "kernelspec": {
   "display_name": "Python 2",
   "language": "python",
   "name": "python2"
  },
  "language_info": {
   "codemirror_mode": {
    "name": "ipython",
    "version": 2
   },
   "file_extension": ".py",
   "mimetype": "text/x-python",
   "name": "python",
   "nbconvert_exporter": "python",
   "pygments_lexer": "ipython2",
   "version": "2.7.10"
  },
  "widgets": {
   "application/vnd.jupyter.widget-state+json": {
    "state": {},
    "version_major": 1,
    "version_minor": 0
   }
  }
 },
 "nbformat": 4,
 "nbformat_minor": 2
}
